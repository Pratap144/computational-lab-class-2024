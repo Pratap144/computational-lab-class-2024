{
 "cells": [
  {
   "cell_type": "code",
   "execution_count": 1,
   "id": "a8ecf060-d0ed-4e37-96fe-5a47a96dd631",
   "metadata": {},
   "outputs": [
    {
     "name": "stdout",
     "output_type": "stream",
     "text": [
      "Error: File ../Outputs/PVT-1.ener not found.\n",
      "Error: Could not plot due to missing or invalid data.\n"
     ]
    }
   ],
   "source": [
    "import pandas as pd\n",
    "import matplotlib.pyplot as plt\n",
    "import os\n",
    "\n",
    "# Define file paths for QM/MM potential energy and reaction coordinate data\n",
    "qm_mm_file = '../Outputs/PVT-1.ener'  # Replace with the correct QM/MM energy file\n",
    "reaction_coord_file = '../Outputs/monitor/MONITOR-COLVAR.metadynLog'  # CV data from metadynamics\n",
    "\n",
    "# Output directory for figures\n",
    "output_dir = 'Figures'\n",
    "os.makedirs(output_dir, exist_ok=True)  # Create Figures directory if it doesn't exist\n",
    "\n",
    "# Function to load energy data\n",
    "def load_energy_file(file_path):\n",
    "    try:\n",
    "        data = pd.read_csv(file_path, delim_whitespace=True, comment='#', header=None)\n",
    "        print(f\"Loaded data from {file_path}. First few rows:\")\n",
    "        print(data.head())\n",
    "        return data\n",
    "    except FileNotFoundError:\n",
    "        print(f\"Error: File {file_path} not found.\")\n",
    "    except pd.errors.ParserError:\n",
    "        print(f\"Error: Could not parse {file_path}. Check the file format.\")\n",
    "    return None\n",
    "\n",
    "# Load the QM/MM energy data\n",
    "qm_mm_data = load_energy_file(qm_mm_file)\n",
    "reaction_coord_data = pd.read_csv(reaction_coord_file, delim_whitespace=True, comment='#', header=None)\n",
    "\n",
    "# Check if data is successfully loaded\n",
    "if qm_mm_data is not None and not reaction_coord_data.empty:\n",
    "    # Convert the time from femtoseconds to picoseconds (divide by 1000)\n",
    "    qm_mm_data[1] = qm_mm_data[1] / 1000  # Time in ps (assuming column 1 is time in fs)\n",
    "\n",
    "    # Plot the potential energy vs. time for QM/MM simulation\n",
    "    plt.figure(figsize=(10, 6))\n",
    "    plt.plot(qm_mm_data[1], qm_mm_data[4], label='QM/MM Energy')  # Column 4 assumed to be potential energy\n",
    "    plt.xlabel('Time (ps)')\n",
    "    plt.ylabel('Potential Energy (kcal/mol)')\n",
    "    plt.legend()\n",
    "    plt.title('Potential Energy vs Time (QM/MM)')\n",
    "    plt.savefig(os.path.join(output_dir, 'qm_mm_potential_energy_vs_time.png'))  # Save plot\n",
    "    print(f\"QM/MM potential energy plot saved at: {os.path.join(output_dir, 'qm_mm_potential_energy_vs_time.png')}\")\n",
    "    plt.show()\n",
    "\n",
    "    # Plot the reaction coordinate vs. time (from the CV data)\n",
    "    # Assuming the first column is time and the second column is the reaction coordinate\n",
    "    plt.figure(figsize=(10, 6))\n",
    "    plt.plot(reaction_coord_data[0] / 1000, reaction_coord_data[1], label='Reaction Coordinate')  # Convert time to ps\n",
    "    plt.xlabel('Time (ps)')\n",
    "    plt.ylabel('Reaction Coordinate')\n",
    "    plt.legend()\n",
    "    plt.title('Reaction Coordinate vs Time')\n",
    "    plt.savefig(os.path.join(output_dir, 'reaction_coordinate_vs_time.png'))  # Save plot\n",
    "    print(f\"Reaction coordinate plot saved at: {os.path.join(output_dir, 'reaction_coordinate_vs_time.png')}\")\n",
    "    plt.show()\n",
    "else:\n",
    "    print(\"Error: Could not plot due to missing or invalid data.\")\n"
   ]
  },
  {
   "cell_type": "code",
   "execution_count": null,
   "id": "49b897ab-a080-463c-b82c-b03c701087b3",
   "metadata": {},
   "outputs": [],
   "source": []
  }
 ],
 "metadata": {
  "kernelspec": {
   "display_name": "lab_env_2024",
   "language": "python",
   "name": "lab_env_2024"
  },
  "language_info": {
   "codemirror_mode": {
    "name": "ipython",
    "version": 3
   },
   "file_extension": ".py",
   "mimetype": "text/x-python",
   "name": "python",
   "nbconvert_exporter": "python",
   "pygments_lexer": "ipython3",
   "version": "3.9.12"
  }
 },
 "nbformat": 4,
 "nbformat_minor": 5
}
